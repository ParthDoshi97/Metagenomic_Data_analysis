{
 "cells": [
  {
   "cell_type": "code",
   "execution_count": 3,
   "metadata": {},
   "outputs": [
    {
     "name": "stdout",
     "output_type": "stream",
     "text": [
      "c:\\Users\\Parth Doshi\\Desktop\\Project\\Metagenomic_Data_anaylsis\\Study_2_data/result_X201SC22101900-Z01-F019/05.BetaDiversity/beta_distance\\sample\n"
     ]
    }
   ],
   "source": [
    "# importing Library \n",
    "import os\n",
    "import pandas as pd\n",
    "import matplotlib.pyplot as plt\n",
    "import seaborn as sns\n",
    "import numpy as np \n",
    "\n",
    "# Path to get files\n",
    "current_dir = os.getcwd()\n",
    "relative_path = \"Study_2_data/result_X201SC22101900-Z01-F019/05.BetaDiversity/beta_distance\\sample\"\n",
    "beta_path = os.path.join(current_dir,relative_path)\n",
    "print(beta_path)"
   ]
  }
 ],
 "metadata": {
  "kernelspec": {
   "display_name": "Python 3",
   "language": "python",
   "name": "python3"
  },
  "language_info": {
   "codemirror_mode": {
    "name": "ipython",
    "version": 3
   },
   "file_extension": ".py",
   "mimetype": "text/x-python",
   "name": "python",
   "nbconvert_exporter": "python",
   "pygments_lexer": "ipython3",
   "version": "3.9.13"
  }
 },
 "nbformat": 4,
 "nbformat_minor": 2
}
